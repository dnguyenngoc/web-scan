{
 "cells": [
  {
   "cell_type": "markdown",
   "id": "dcc2fb74-2544-41f8-a783-af32c3e896db",
   "metadata": {},
   "source": [
    "# Library"
   ]
  },
  {
   "cell_type": "code",
   "execution_count": 1,
   "id": "41f79f91",
   "metadata": {},
   "outputs": [],
   "source": [
    "import os\n",
    "os.chdir('/home/pot/project/web-scan')\n",
    "from detector import DetectorTF2\n",
    "import numpy as np\n",
    "from helpers import ocr_helpers\n",
    "from helpers import load_label_map as label_map_util\n",
    "from helpers import visualization_utils as viz_utils"
   ]
  },
  {
   "cell_type": "markdown",
   "id": "0b85ed6b-3f4b-492b-9b23-408c8013b73c",
   "metadata": {},
   "source": [
    "# Configuration"
   ]
  },
  {
   "cell_type": "code",
   "execution_count": 2,
   "id": "63d86d67-3b4d-444c-8a95-3844672678e4",
   "metadata": {},
   "outputs": [],
   "source": [
    "ROOT_PATH = '/home/pot/project/'\n",
    "PATH_TO_MODEL_DIR = ROOT_PATH + 'web-scan/models/discharge_record_content_tf2'\n",
    "PATH_TO_SAVED_MODEL = PATH_TO_MODEL_DIR + \"/saved_model\"\n",
    "PATH_TO_LABELS = ROOT_PATH + 'web-scan/models/discharge_record_content_tf2/label_map.pbtxt'\n",
    "PATH_TO_TRAIN_FOLDER = ROOT_PATH + 'artificial-intelligence/workspace/discharge_record_content/images/train_10_04_2021'\n",
    "MIN_CONF_THRESH = 0.7\n",
    "MIN_SCORE_THRESH = 0.7\n",
    "NUM_CLASSES = 1"
   ]
  },
  {
   "cell_type": "markdown",
   "id": "de36049a-5393-4ef7-891b-7ab4631bf274",
   "metadata": {},
   "source": [
    "# Load Model"
   ]
  },
  {
   "cell_type": "code",
   "execution_count": 3,
   "id": "55104397-de02-434a-b356-18f297efd249",
   "metadata": {},
   "outputs": [],
   "source": [
    "model = DetectorTF2(path_to_model=PATH_TO_MODEL_DIR, \n",
    "                    path_to_labels=PATH_TO_LABELS,\n",
    "                    nms_threshold=MIN_CONF_THRESH, \n",
    "                    score_threshold=MIN_SCORE_THRESH)\n",
    "model.load_model()\n",
    "\n",
    "category_index = label_map_util.create_category_index_from_labelmap(PATH_TO_LABELS, use_display_name=True)"
   ]
  },
  {
   "cell_type": "markdown",
   "id": "d94d2565-fdf3-4c2a-9f55-52e6dd6a28e9",
   "metadata": {},
   "source": [
    "# Make data train for model detection area of field"
   ]
  },
  {
   "cell_type": "code",
   "execution_count": null,
   "id": "456a85d8",
   "metadata": {},
   "outputs": [],
   "source": [
    "import os\n",
    "import glob\n",
    "import pandas as pd\n",
    "from shutil import copyfile\n",
    "import cv2\n",
    "\n",
    "images = glob.glob(PATH_TO_TRAIN_FOLDER + '/*jpg')\n",
    "k = 1\n",
    "for img in images:\n",
    "    img = ocr_helpers.read_image_from_dir(img)\n",
    "    img = np.asarray(img)\n",
    "    image_with_detections = img.copy()\n",
    "    detections = model.predict(img)\n",
    "    detection_classes = detections['detection_classes']\n",
    "    detection_boxes  = detections['detection_boxes']\n",
    "    detection_scores  = detections['detection_scores']\n",
    "    im_height, im_width = img.shape[:2]\n",
    "    for i in range(len(detection_classes)):\n",
    "        if detection_scores[i] < 0.7:\n",
    "            continue\n",
    "        ymin = int(detection_boxes[i][0]*im_height)\n",
    "        xmin = int(detection_boxes[i][1]*im_width)\n",
    "        ymax = int(detection_boxes[i][2]*im_height)\n",
    "        xmax = int(detection_boxes[i][3]*im_width)\n",
    "        break\n",
    "    end = img[ymin:ymax, xmin:xmax]\n",
    "    cv2.imwrite('/home/pot/project/artificial-intelligence/workspace/discharge_record/images/train_12_04_2021/' + str(k) + '.jpg', end)\n",
    "    k += 1"
   ]
  },
  {
   "cell_type": "code",
   "execution_count": null,
   "id": "67bce150-4b48-455b-ade6-a3fee813fa9a",
   "metadata": {},
   "outputs": [],
   "source": [
    "# %matplotlib inline\n",
    "# viz_utils.visualize_boxes_and_labels_on_image_array(\n",
    "#       image_with_detections,\n",
    "#       detections['detection_boxes'],\n",
    "#       detections['detection_classes'],\n",
    "#       detections['detection_scores'],\n",
    "#       category_index,\n",
    "#       use_normalized_coordinates=True,\n",
    "#       max_boxes_to_draw=1,\n",
    "#       min_score_thresh=0.1,\n",
    "#       agnostic_mode=False)\n",
    "# ocr_helpers.implt(image_with_detections)\n",
    "# ocr_helpers.implt(img)"
   ]
  },
  {
   "cell_type": "code",
   "execution_count": null,
   "id": "0b24ed38-dfbe-47bb-acf8-65f271daca09",
   "metadata": {},
   "outputs": [],
   "source": []
  }
 ],
 "metadata": {
  "kernelspec": {
   "display_name": "tf_2.4.1_cpu",
   "language": "python",
   "name": "tf_2.4.1_cpu"
  },
  "language_info": {
   "codemirror_mode": {
    "name": "ipython",
    "version": 3
   },
   "file_extension": ".py",
   "mimetype": "text/x-python",
   "name": "python",
   "nbconvert_exporter": "python",
   "pygments_lexer": "ipython3",
   "version": "3.8.8"
  }
 },
 "nbformat": 4,
 "nbformat_minor": 5
}
