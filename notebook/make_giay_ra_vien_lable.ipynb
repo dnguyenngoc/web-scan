{
 "cells": [
  {
   "cell_type": "code",
   "execution_count": 1,
   "id": "perceived-telescope",
   "metadata": {},
   "outputs": [
    {
     "name": "stdout",
     "output_type": "stream",
     "text": [
      "/home/pot/Desktop/ocr\n"
     ]
    }
   ],
   "source": [
    "import os\n",
    "os.chdir('../')\n",
    "import glob\n",
    "import pandas as pd\n",
    "import xml.etree.ElementTree as ET\n",
    "from os import listdir\n",
    "from os.path import isfile, join\n",
    "print(os.getcwd())\n"
   ]
  },
  {
   "cell_type": "code",
   "execution_count": 2,
   "id": "naval-walnut",
   "metadata": {},
   "outputs": [
    {
     "name": "stdout",
     "output_type": "stream",
     "text": [
      "Successfully converted xml to csv.\n"
     ]
    }
   ],
   "source": [
    "def get_id_by_name(name):\n",
    "    if name == 'name': return 1\n",
    "    elif name == 'birth': return 2\n",
    "    elif name == 'sex': return 3\n",
    "    elif name == 'nation': return 4\n",
    "    elif name == 'country': return 5\n",
    "    elif name == 'id': return 6\n",
    "    elif name == 'add': return 7\n",
    "    elif name == 'come_time': return 8\n",
    "    elif name == 'out_time': return 9\n",
    "    elif name == 'diagnostic': return 10\n",
    "    elif name == 'solution': return 11\n",
    "    elif name == 'note': return 12\n",
    "    elif name == 'job': return 13\n",
    "    \n",
    "\n",
    "def xml_to_csv(path):\n",
    "    xml_list = []\n",
    "    for xml_file in glob.glob(path + '/*.xml'):\n",
    "        tree = ET.parse(xml_file)\n",
    "        root = tree.getroot()\n",
    "        for member in root.findall('object'):\n",
    "            value = (root.find('filename').text,\n",
    "#                      int(root.find('size')[0].text),\n",
    "#                      int(root.find('size')[1].text),\n",
    "                     member[0].text,\n",
    "                     int(member[4][0].text),\n",
    "                     int(member[4][1].text),\n",
    "                     int(member[4][2].text),\n",
    "                     int(member[4][3].text)\n",
    "                     )\n",
    "            xml_list.append(value)\n",
    "#     column_name = ['filename', 'width', 'height', 'class', 'xmin', 'ymin', 'xmax', 'ymax']\n",
    "    column_name = ['filename', 'class', 'xmin', 'ymin', 'xmax', 'ymax']\n",
    "    xml_df = pd.DataFrame(xml_list, columns=column_name)\n",
    "    xml_df = xml_df.rename(columns={'filename':'image_name', 'class':'class_id'})\n",
    "    xml_df['class_id'] = [get_id_by_name(item) for item in xml_df['class_id']]\n",
    "    return xml_df\n",
    "\n",
    "\n",
    "\n",
    "my_path_train = './training/data/giay_ra_vien/train_xml/'\n",
    "my_path_val = './training/data/giay_ra_vien/val_xml/'\n",
    "newpath = './training/data/giay_ra_vien/annotations/'\n",
    "\n",
    "\n",
    "xml_df = xml_to_csv(my_path_train)\n",
    "xml_df.to_csv((newpath + 'giay_ra_vien_train' + '.csv'), index=None)\n",
    "\n",
    "xml_df = xml_to_csv(my_path_val)\n",
    "xml_df.to_csv((newpath + 'giay_ra_vien_val' + '.csv'), index=None)\n",
    "\n",
    "print('Successfully converted xml to csv.')"
   ]
  },
  {
   "cell_type": "code",
   "execution_count": null,
   "id": "compressed-discretion",
   "metadata": {},
   "outputs": [],
   "source": []
  }
 ],
 "metadata": {
  "kernelspec": {
   "display_name": "Python 3",
   "language": "python",
   "name": "python3"
  },
  "language_info": {
   "codemirror_mode": {
    "name": "ipython",
    "version": 3
   },
   "file_extension": ".py",
   "mimetype": "text/x-python",
   "name": "python",
   "nbconvert_exporter": "python",
   "pygments_lexer": "ipython3",
   "version": "3.7.3"
  }
 },
 "nbformat": 4,
 "nbformat_minor": 5
}
