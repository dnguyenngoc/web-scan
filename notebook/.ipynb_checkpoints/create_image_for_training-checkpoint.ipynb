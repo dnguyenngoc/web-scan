{
 "cells": [
  {
   "cell_type": "markdown",
   "id": "inclusive-adoption",
   "metadata": {},
   "source": [
    "# LIBRARY AND CONFIGUATION"
   ]
  },
  {
   "cell_type": "code",
   "execution_count": 13,
   "id": "favorite-berry",
   "metadata": {},
   "outputs": [
    {
     "name": "stdout",
     "output_type": "stream",
     "text": [
      "['31446915.JPG', '31447172.JPG', '31446434.JPG', '31446829.JPG', '31446706.JPG', '31447500.JPG', '31447346.JPG', '31446423.JPG', '31447319.JPG', '31446398.jpg', '31447109.jpg', '31446830.JPG', '31447238.JPG', '31447296.JPG', '31446510.JPG', '31447429.JPG', '31446712.JPG', '31446561.JPG', '31446858.JPG', '31446521.JPG', '31446588.JPG', '31446464.JPG', '31447426.JPG', '31446913.JPG', '31446405.jpg', '31446880.JPG', '31446417.JPG', '31447402.JPG', '31447243.JPG', '31447084.JPG', '31447533.JPG', '31446881.JPG', '31447252.JPG', '31446401.jpg', '31446400.jpg', '31446568.JPG', '31446450.JPG', '31446862.JPG', '31446727.JPG', '31446522.JPG', '31447253.JPG', '31446433.JPG', '31446408.jpg', '31446407.JPG', '31447064.JPG', '31446574.JPG', '31446702.JPG', '31446412.JPG', '31446508.JPG', '31446411.JPG', '31446893.JPG', '31446420.JPG', '31446587.JPG', '31446439.JPG', '31446418.jpg', '31446917.JPG', '31447170.JPG', '31446572.JPG', '31447322.JPG', '31446397.jpg', '31447458.JPG', '31447155.JPG', '31446409.jpg', '31446509.JPG', '31447481.JPG', '31446500.JPG', '31447462.JPG', '31446849.JPG', '31447534.JPG', '31446663.JPG', '31446406.jpg', '31447320.JPG', '31446422.JPG', '31446569.JPG', '31446399.jpg', '31447173.JPG', '31446573.JPG', '31446410.jpg', '31446916.JPG', '31446436.JPG', '31446914.JPG', '31447425.JPG', '31447497.JPG', '31447294.JPG', '31446877.JPG', '31446828.JPG', '31447132.JPG', '31447528.JPG', '31446565.JPG', '31446882.JPG', '31446441.JPG', '31446404.jpg', '31447499.JPG', '31446662.JPG', '31447239.JPG', '31446804.JPG', '31446802.PNG', '31446563.JPG', '31447321.JPG', '31446762.JPG', '31447415.JPG', '31446806.JPG', '31446678.JPG', '31447240.JPG', '31447171.JPG', '31447169.JPG', '31447278.JPG', '31446403.jpg', '31446497.JPG', '31447498.JPG', '31446462.JPG', '31446564.JPG', '31446402.jpg', '31446432.JPG', '31447417.JPG', '31446562.JPG', '31447413.JPG', '31446676.JPG', '31447105.JPG']\n"
     ]
    }
   ],
   "source": [
    "import os\n",
    "os.chdir('/home/pot/Desktop/web-scan')\n",
    "from helpers import ocr_helpers, image_utils, corner_utils\n",
    "import cv2\n",
    "from os import listdir\n",
    "from os.path import isfile, join\n",
    "import numpy as np\n",
    "\n",
    "mypath = '/home/pot/Desktop/artificial-intelligence/workspace/discharge_record/images/08_04_2021/'\n",
    "newpath= '/home/pot/Desktop/artificial-intelligence/workspace/discharge_record/images/train_08_04_2021/'\n",
    "onlyfiles = [f for f in listdir(mypath) if isfile(join(mypath, f))]\n",
    "print(onlyfiles)"
   ]
  },
  {
   "cell_type": "code",
   "execution_count": 14,
   "id": "entitled-horse",
   "metadata": {},
   "outputs": [
    {
     "ename": "NameError",
     "evalue": "name 'page_contour' is not defined",
     "output_type": "error",
     "traceback": [
      "\u001b[0;31m---------------------------------------------------------------------------\u001b[0m",
      "\u001b[0;31mNameError\u001b[0m                                 Traceback (most recent call last)",
      "\u001b[0;32m<ipython-input-14-985910508933>\u001b[0m in \u001b[0;36m<module>\u001b[0;34m\u001b[0m\n\u001b[1;32m      7\u001b[0m     \u001b[0medges_image\u001b[0m \u001b[0;34m=\u001b[0m \u001b[0mcorner_utils\u001b[0m\u001b[0;34m.\u001b[0m\u001b[0medges_det\u001b[0m\u001b[0;34m(\u001b[0m\u001b[0mimg\u001b[0m\u001b[0;34m)\u001b[0m\u001b[0;34m\u001b[0m\u001b[0;34m\u001b[0m\u001b[0m\n\u001b[1;32m      8\u001b[0m     \u001b[0medges_image\u001b[0m \u001b[0;34m=\u001b[0m \u001b[0mcv2\u001b[0m\u001b[0;34m.\u001b[0m\u001b[0mmorphologyEx\u001b[0m\u001b[0;34m(\u001b[0m\u001b[0medges_image\u001b[0m\u001b[0;34m,\u001b[0m \u001b[0mcv2\u001b[0m\u001b[0;34m.\u001b[0m\u001b[0mMORPH_CLOSE\u001b[0m\u001b[0;34m,\u001b[0m \u001b[0mnp\u001b[0m\u001b[0;34m.\u001b[0m\u001b[0mones\u001b[0m\u001b[0;34m(\u001b[0m\u001b[0;34m(\u001b[0m\u001b[0;36m5\u001b[0m\u001b[0;34m,\u001b[0m \u001b[0;36m11\u001b[0m\u001b[0;34m)\u001b[0m\u001b[0;34m)\u001b[0m\u001b[0;34m)\u001b[0m\u001b[0;34m\u001b[0m\u001b[0;34m\u001b[0m\u001b[0m\n\u001b[0;32m----> 9\u001b[0;31m     \u001b[0mpage_contour\u001b[0m \u001b[0;34m=\u001b[0m  \u001b[0mcorner_utils\u001b[0m\u001b[0;34m.\u001b[0m\u001b[0mfour_corners_sort\u001b[0m\u001b[0;34m(\u001b[0m\u001b[0mpage_contour\u001b[0m\u001b[0;34m)\u001b[0m\u001b[0;34m\u001b[0m\u001b[0;34m\u001b[0m\u001b[0m\n\u001b[0m\u001b[1;32m     10\u001b[0m     \u001b[0mcrop_image\u001b[0m \u001b[0;34m=\u001b[0m \u001b[0mcorner_utils\u001b[0m\u001b[0;34m.\u001b[0m\u001b[0mpersp_transform\u001b[0m\u001b[0;34m(\u001b[0m\u001b[0mimg\u001b[0m\u001b[0;34m,\u001b[0m \u001b[0mpage_contour\u001b[0m\u001b[0;34m)\u001b[0m\u001b[0;34m\u001b[0m\u001b[0;34m\u001b[0m\u001b[0m\n\u001b[1;32m     11\u001b[0m     \u001b[0mimage\u001b[0m \u001b[0;34m=\u001b[0m \u001b[0mocr_helpers\u001b[0m\u001b[0;34m.\u001b[0m\u001b[0mresize\u001b[0m\u001b[0;34m(\u001b[0m\u001b[0mcrop_image\u001b[0m\u001b[0;34m)\u001b[0m\u001b[0;34m\u001b[0m\u001b[0;34m\u001b[0m\u001b[0m\n",
      "\u001b[0;31mNameError\u001b[0m: name 'page_contour' is not defined"
     ]
    }
   ],
   "source": [
    "# LOAD IMAGE TEST\n",
    "for item in onlyfiles:\n",
    "    path_new = mypath + item\n",
    "    img = ocr_helpers.read_image_from_dir(path_new)\n",
    "    img = np.asarray(img)\n",
    "    # CROP CORNER\n",
    "    edges_image = corner_utils.edges_det(img)\n",
    "    edges_image = cv2.morphologyEx(edges_image, cv2.MORPH_CLOSE, np.ones((5, 11)))\n",
    "    page_contour =  corner_utils.find_page_contours(edges_image)\n",
    "    page_contour =  corner_utils.four_corners_sort(page_contour)\n",
    "    crop_image = corner_utils.persp_transform(img, page_contour)\n",
    "    image = ocr_helpers.resize(crop_image)\n",
    "    cv2.imwrite(newpath + item , image)\n",
    "    print('done: ', item)\n",
    "print('completed!')"
   ]
  },
  {
   "cell_type": "code",
   "execution_count": null,
   "id": "based-neutral",
   "metadata": {},
   "outputs": [],
   "source": []
  }
 ],
 "metadata": {
  "kernelspec": {
   "display_name": "tf_2.4.1_cpu",
   "language": "python",
   "name": "tf_2.4.1_cpu"
  },
  "language_info": {
   "codemirror_mode": {
    "name": "ipython",
    "version": 3
   },
   "file_extension": ".py",
   "mimetype": "text/x-python",
   "name": "python",
   "nbconvert_exporter": "python",
   "pygments_lexer": "ipython3",
   "version": "3.8.8"
  }
 },
 "nbformat": 4,
 "nbformat_minor": 5
}
